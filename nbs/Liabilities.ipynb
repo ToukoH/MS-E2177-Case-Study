{
 "cells": [
  {
   "cell_type": "code",
   "execution_count": 1,
   "id": "fa8c3262",
   "metadata": {},
   "outputs": [],
   "source": [
    "import pandas as pd\n",
    "import numpy as np\n",
    "import matplotlib as plt"
   ]
  },
  {
   "cell_type": "code",
   "execution_count": 26,
   "id": "5388cb76",
   "metadata": {},
   "outputs": [],
   "source": [
    "def npv_liabilities(rf, rg, discount_rates=None, S = 100000):\n",
    "    #rf is a list of the risk free rates\n",
    "    #rg is the guaranteed rate\n",
    "    \n",
    "    T = len(rf)\n",
    "    cf = []\n",
    "    \n",
    "    #calculate the cashflows\n",
    "    for t in range(T):\n",
    "        r = max(rf[t], rg)\n",
    "        \n",
    "        if t<(T-1):\n",
    "            cf.append(0.01*S) #1% probability of death\n",
    "            S = 0.99*S*(1+r)\n",
    "        else:\n",
    "            cf.append(S)\n",
    "    \n",
    "    \n",
    "    #calculate the discount rates if not provided\n",
    "    if discount_rates is not None:\n",
    "        d = discount_rates\n",
    "    else:\n",
    "        d = []\n",
    "        for i in range(T):\n",
    "            if i < 1:\n",
    "                d_i = 1\n",
    "                d.append(d_i)\n",
    "            else:\n",
    "                d_i = d[i-1]/(1+rf[i-1])\n",
    "                d.append(d_i)\n",
    "    \n",
    "    #print(d)\n",
    "    #print(cf)\n",
    "    npv = [x * y for x, y in zip(cf, d)]\n",
    "    \n",
    "    return npv"
   ]
  },
  {
   "cell_type": "code",
   "execution_count": 29,
   "id": "7bbb3727",
   "metadata": {},
   "outputs": [],
   "source": [
    "def future_cf(npv_list, t):    #future cashflow starting from t\n",
    "    return sum(npv_list[t:])"
   ]
  },
  {
   "cell_type": "code",
   "execution_count": 35,
   "id": "bdbcce5f",
   "metadata": {},
   "outputs": [
    {
     "name": "stdout",
     "output_type": "stream",
     "text": [
      "105801.40621489099\n",
      "111449.4621776095\n",
      "111450.04491787835\n"
     ]
    }
   ],
   "source": [
    "rg = 0.025\n",
    "\n",
    "rf_1 = [0.041406, 0.042365, 0.039038, 0.030713, 0.036248, 0.02306, 0.007881, 0.012031, 0.013238, 0.006477, 0.01905]\n",
    "\n",
    "rf_2 = [0.03357, 0.027545, 0.023997, 0.033845, 0.036419, 0.021416, -0.00301, -0.01199, -0.00164, 0.002683, 0.001909]\n",
    "d_2 = [1, 0.96752, 0.941584, 0.919519, 0.889416, 0.858163, 0.84017, 0.842706, 0.852935, 0.854339, 0.852053]\n",
    "\n",
    "\n",
    "test_1 = npv_liabilities(rf_1, rg)\n",
    "test_2 = npv_liabilities(rf_2, rg)\n",
    "test_3 = npv_liabilities(rf_2, rg, d_2)\n",
    "\n",
    "print(sum(test_1))\n",
    "print(sum(test_2))\n",
    "print(sum(test_3))"
   ]
  },
  {
   "cell_type": "code",
   "execution_count": 25,
   "id": "ecf91e4e",
   "metadata": {},
   "outputs": [
    {
     "data": {
      "text/plain": [
       "111449.4621776095"
      ]
     },
     "execution_count": 25,
     "metadata": {},
     "output_type": "execute_result"
    }
   ],
   "source": [
    "sum(test_1)"
   ]
  },
  {
   "cell_type": "code",
   "execution_count": 30,
   "id": "c2743e3c",
   "metadata": {},
   "outputs": [
    {
     "data": {
      "text/plain": [
       "106546.5758654914"
      ]
     },
     "execution_count": 30,
     "metadata": {},
     "output_type": "execute_result"
    }
   ],
   "source": [
    "future_cf(test_1, 5)"
   ]
  },
  {
   "cell_type": "code",
   "execution_count": 31,
   "id": "d285e9a5",
   "metadata": {},
   "outputs": [
    {
     "data": {
      "text/plain": [
       "106546.5758654914"
      ]
     },
     "execution_count": 31,
     "metadata": {},
     "output_type": "execute_result"
    }
   ],
   "source": [
    "sum(test_1[5:])"
   ]
  },
  {
   "cell_type": "code",
   "execution_count": null,
   "id": "9738a471",
   "metadata": {},
   "outputs": [],
   "source": []
  }
 ],
 "metadata": {
  "kernelspec": {
   "display_name": "Python 3 (ipykernel)",
   "language": "python",
   "name": "python3"
  },
  "language_info": {
   "codemirror_mode": {
    "name": "ipython",
    "version": 3
   },
   "file_extension": ".py",
   "mimetype": "text/x-python",
   "name": "python",
   "nbconvert_exporter": "python",
   "pygments_lexer": "ipython3",
   "version": "3.8.17"
  }
 },
 "nbformat": 4,
 "nbformat_minor": 5
}
